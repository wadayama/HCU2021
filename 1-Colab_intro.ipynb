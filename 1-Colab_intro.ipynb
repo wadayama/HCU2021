{
 "cells": [
  {
   "cell_type": "markdown",
   "metadata": {
    "colab_type": "text",
    "id": "TYmU5UHoyDLH"
   },
   "source": [
    "# Google Colab + Python 入門\n",
    "\n",
    "このノートブックの目標は、Google Colabの利用法に慣れることとPythonの簡単な入門です。"
   ]
  },
  {
   "cell_type": "code",
   "execution_count": null,
   "metadata": {
    "colab": {},
    "colab_type": "code",
    "id": "Zyq5wscWyDLI"
   },
   "outputs": [],
   "source": [
    "a = 1"
   ]
  },
  {
   "cell_type": "code",
   "execution_count": null,
   "metadata": {
    "colab": {},
    "colab_type": "code",
    "id": "Wl2kZAyPyDLM"
   },
   "outputs": [],
   "source": [
    "b = 1 "
   ]
  },
  {
   "cell_type": "code",
   "execution_count": null,
   "metadata": {
    "colab": {},
    "colab_type": "code",
    "id": "T_gZnxOzyDLQ"
   },
   "outputs": [],
   "source": [
    "c = a + b"
   ]
  },
  {
   "cell_type": "code",
   "execution_count": null,
   "metadata": {
    "colab": {},
    "colab_type": "code",
    "id": "NIZ3GOtmyDLS"
   },
   "outputs": [],
   "source": [
    "print(c)"
   ]
  },
  {
   "cell_type": "markdown",
   "metadata": {
    "colab_type": "text",
    "id": "H2K4kMglyDLV"
   },
   "source": [
    "## 高級関数電卓としてpythonを利用する"
   ]
  },
  {
   "cell_type": "code",
   "execution_count": null,
   "metadata": {
    "colab": {},
    "colab_type": "code",
    "id": "-3V_zE-myDLV"
   },
   "outputs": [],
   "source": [
    "import math # 数学関数を利用する場合はmath をimport する"
   ]
  },
  {
   "cell_type": "code",
   "execution_count": null,
   "metadata": {
    "colab": {},
    "colab_type": "code",
    "id": "cKs79LX-yDLX"
   },
   "outputs": [],
   "source": [
    "print(math.sqrt(c))"
   ]
  },
  {
   "cell_type": "markdown",
   "metadata": {
    "colab_type": "text",
    "id": "x5KGO-QIyDLY"
   },
   "source": [
    "## ループの作り方\n",
    "\n",
    "Python では「ブロック」はインデントで作ります。"
   ]
  },
  {
   "cell_type": "code",
   "execution_count": null,
   "metadata": {
    "colab": {},
    "colab_type": "code",
    "id": "L2hPnaBZyDLY"
   },
   "outputs": [],
   "source": [
    "sum = 0\n",
    "for i in range(10):\n",
    "    sum = sum + i\n",
    "    print(i)"
   ]
  },
  {
   "cell_type": "code",
   "execution_count": null,
   "metadata": {
    "colab": {},
    "colab_type": "code",
    "id": "Q_iMKgdOyDLa"
   },
   "outputs": [],
   "source": [
    "print(sum)"
   ]
  },
  {
   "cell_type": "markdown",
   "metadata": {
    "colab_type": "text",
    "id": "jz10t7lAyDLb"
   },
   "source": [
    "## 条件判定"
   ]
  },
  {
   "cell_type": "code",
   "execution_count": null,
   "metadata": {
    "colab": {},
    "colab_type": "code",
    "id": "buhH9JytyDLc"
   },
   "outputs": [],
   "source": [
    "for i in range(10):\n",
    "    if i % 2 == 0:\n",
    "        print(i)"
   ]
  },
  {
   "cell_type": "markdown",
   "metadata": {
    "colab_type": "text",
    "id": "hA1433fbyDLd"
   },
   "source": [
    "## 関数の定義"
   ]
  },
  {
   "cell_type": "code",
   "execution_count": null,
   "metadata": {
    "colab": {},
    "colab_type": "code",
    "id": "wqIyr5XZyDLd"
   },
   "outputs": [],
   "source": [
    "def square_sum(a, b):\n",
    "    return a**2 + b**2"
   ]
  },
  {
   "cell_type": "code",
   "execution_count": null,
   "metadata": {
    "colab": {},
    "colab_type": "code",
    "id": "KL2-IJPFyDLe"
   },
   "outputs": [],
   "source": [
    "square_sum(1,2)"
   ]
  },
  {
   "cell_type": "markdown",
   "metadata": {
    "colab_type": "text",
    "id": "AkQmEl2KyDLg"
   },
   "source": [
    "## Pythonの文法についての疑問などは下記参照\n",
    "\n",
    "Python チュートリアル\n",
    "https://docs.python.org/ja/3/tutorial/index.html"
   ]
  },
  {
   "cell_type": "markdown",
   "metadata": {
    "colab_type": "text",
    "id": "7jqy8UrkyDLg"
   },
   "source": [
    "## リストの取り扱いとグラフの表示"
   ]
  },
  {
   "cell_type": "code",
   "execution_count": null,
   "metadata": {
    "colab": {},
    "colab_type": "code",
    "id": "9Vxb2QivyDLg"
   },
   "outputs": [],
   "source": [
    "a = []"
   ]
  },
  {
   "cell_type": "code",
   "execution_count": null,
   "metadata": {
    "colab": {},
    "colab_type": "code",
    "id": "SfMrrXoMyDLh"
   },
   "outputs": [],
   "source": [
    "for i in range(10):\n",
    "    a.append(i) # リストaの末尾に引数の要素を追加する"
   ]
  },
  {
   "cell_type": "code",
   "execution_count": null,
   "metadata": {
    "colab": {},
    "colab_type": "code",
    "id": "21CaR2ELyDLi"
   },
   "outputs": [],
   "source": [
    "print(a)"
   ]
  },
  {
   "cell_type": "code",
   "execution_count": null,
   "metadata": {
    "colab": {},
    "colab_type": "code",
    "id": "Tmu28rYSyDLk"
   },
   "outputs": [],
   "source": [
    "b = []\n",
    "for i in range(10):\n",
    "    b.append(i**2)\n",
    "print(b)"
   ]
  },
  {
   "cell_type": "markdown",
   "metadata": {
    "colab_type": "text",
    "id": "nvzDUQTAyDLl"
   },
   "source": [
    "## グラフの描画はmatplotlibを利用する\n",
    "\n",
    "python + matplotlibの組み合わせで簡単に計算結果をグラフとして描画することができる。"
   ]
  },
  {
   "cell_type": "code",
   "execution_count": null,
   "metadata": {
    "colab": {},
    "colab_type": "code",
    "id": "2tATyDXByDLl"
   },
   "outputs": [],
   "source": [
    "import matplotlib.pyplot as plt"
   ]
  },
  {
   "cell_type": "code",
   "execution_count": null,
   "metadata": {
    "colab": {},
    "colab_type": "code",
    "id": "Qmfbsa7iyDLm"
   },
   "outputs": [],
   "source": [
    "plt.plot(a, b, color=\"red\", marker=\"o\")"
   ]
  },
  {
   "cell_type": "markdown",
   "metadata": {
    "colab_type": "text",
    "id": "ctC0WjrsyDLn"
   },
   "source": [
    "# 勾配法(２次元目的関数)を動かしてみる\n",
    "\n",
    "目的関数 $\\frac 1 2 x^2 +5  y^2$の最小化を行う。"
   ]
  },
  {
   "cell_type": "markdown",
   "metadata": {
    "colab_type": "text",
    "id": "hOOpB75ayDLn"
   },
   "source": [
    "## x, yの偏微分値を返す関数"
   ]
  },
  {
   "cell_type": "code",
   "execution_count": null,
   "metadata": {
    "colab": {},
    "colab_type": "code",
    "id": "Ufdrg-5GyDLo"
   },
   "outputs": [],
   "source": [
    "def grad_x(x):\n",
    "    return x\n",
    "\n",
    "def grad_y(y):\n",
    "    return 10.0 * y"
   ]
  },
  {
   "cell_type": "markdown",
   "metadata": {
    "colab_type": "text",
    "id": "63mYSc9CyDLp"
   },
   "source": [
    "## 勾配法の反復計算"
   ]
  },
  {
   "cell_type": "code",
   "execution_count": null,
   "metadata": {
    "colab": {},
    "colab_type": "code",
    "id": "ll_-k2RlyDLp"
   },
   "outputs": [],
   "source": [
    "x = 4.0\n",
    "y = 1.0\n",
    "alpha = 0.18\n",
    "\n",
    "for i in range(20):\n",
    "    x = x - alpha * grad_x(x)\n",
    "    y = y - alpha * grad_y(y)\n",
    "    print(i, x, y)"
   ]
  },
  {
   "cell_type": "markdown",
   "metadata": {
    "colab_type": "text",
    "id": "tKIhcjKMyDLq"
   },
   "source": [
    "## 探索点の軌跡を表示する"
   ]
  },
  {
   "cell_type": "code",
   "execution_count": null,
   "metadata": {
    "colab": {},
    "colab_type": "code",
    "id": "vM9gqSshyDLq"
   },
   "outputs": [],
   "source": [
    "x = 4.0\n",
    "y = 1.0\n",
    "alpha = 0.18\n",
    "\n",
    "x_list = []\n",
    "y_list = []\n",
    "ind_list = []\n",
    "err_list = []\n",
    "for i in range(20):\n",
    "    x = x - alpha * grad_x(x)\n",
    "    y = y - alpha * grad_y(y)\n",
    "    x_list.append(x)\n",
    "    y_list.append(y)\n",
    "    ind_list.append(i)\n",
    "    err_list.append(x*x+y*y)"
   ]
  },
  {
   "cell_type": "code",
   "execution_count": null,
   "metadata": {
    "colab": {},
    "colab_type": "code",
    "id": "dl8u33lxyDLr"
   },
   "outputs": [],
   "source": [
    "plt.plot(x_list, y_list, color=\"red\", marker=\"o\")"
   ]
  },
  {
   "cell_type": "markdown",
   "metadata": {
    "colab_type": "text",
    "id": "6rgwnQbWyDLs"
   },
   "source": [
    "## 二乗誤差値を表示する"
   ]
  },
  {
   "cell_type": "code",
   "execution_count": null,
   "metadata": {
    "colab": {},
    "colab_type": "code",
    "id": "Ic367zr1yDLt"
   },
   "outputs": [],
   "source": [
    "plt.plot(ind_list, err_list, color=\"red\", marker=\"o\")"
   ]
  },
  {
   "cell_type": "markdown",
   "metadata": {
    "colab_type": "text",
    "id": "4snmVUUJyDLu"
   },
   "source": [
    "-------------------------------\n",
    "## 演習問題1-0\n",
    "\n",
    "上記のコードを実行しつつ、理解せよ。この問題についてはレポートによる報告は必要ない。\n",
    "\n",
    "## 演習問題1-1\n",
    "\n",
    "1から100までの数の二乗和を計算するpythonのコードを作成し、計算結果を求めよ。\n",
    "\n",
    "## 演習問題1-2\n",
    "\n",
    "上の勾配法のプログラムを少し修正し、下記を報告せよ。\n",
    "\n",
    "* 学習係数が0.2の場合またはそれ以上に大きい場合を試してみよ。その結果を報告せよ。\n",
    "* 学習係数が小さい場合、例えば、0.05, 0.005の場合を試してみよ。その結果を報告せよ。\n",
    "* 他の初期点からスタートしてみよ。例えば、x軸上の点など。いくつか試してその結果を報告せよ。\n",
    "--------------------------------"
   ]
  },
  {
   "cell_type": "code",
   "execution_count": null,
   "metadata": {
    "colab": {},
    "colab_type": "code",
    "id": "KWfDetPgyDLu"
   },
   "outputs": [],
   "source": []
  }
 ],
 "metadata": {
  "colab": {
   "name": "Colab_intro.ipynb",
   "provenance": []
  },
  "kernel_info": {
   "name": "python3"
  },
  "kernelspec": {
   "display_name": "Python 3",
   "language": "python",
   "name": "python3"
  },
  "language_info": {
   "codemirror_mode": {
    "name": "ipython",
    "version": 3
   },
   "file_extension": ".py",
   "mimetype": "text/x-python",
   "name": "python",
   "nbconvert_exporter": "python",
   "pygments_lexer": "ipython3",
   "version": "3.8.5"
  },
  "nteract": {
   "version": "0.12.3"
  }
 },
 "nbformat": 4,
 "nbformat_minor": 4
}
