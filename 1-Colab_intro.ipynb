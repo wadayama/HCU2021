{
  "cells": [
    {
      "cell_type": "markdown",
      "source": [
        "# Google Colab + Python 入門\n",
        "\nこのノートブックの目標は、Google Colabの利用法に慣れることとPythonの簡単な入門です。"
      ],
      "metadata": {
        "colab_type": "text",
        "id": "TYmU5UHoyDLH"
      }
    },
    {
      "cell_type": "code",
      "source": [
        "a = 1"
      ],
      "outputs": [],
      "execution_count": null,
      "metadata": {
        "colab": {},
        "colab_type": "code",
        "id": "Zyq5wscWyDLI"
      }
    },
    {
      "cell_type": "code",
      "source": [
        "b = 1 "
      ],
      "outputs": [],
      "execution_count": null,
      "metadata": {
        "colab": {},
        "colab_type": "code",
        "id": "Wl2kZAyPyDLM"
      }
    },
    {
      "cell_type": "code",
      "source": [
        "c = a + b"
      ],
      "outputs": [],
      "execution_count": null,
      "metadata": {
        "colab": {},
        "colab_type": "code",
        "id": "T_gZnxOzyDLQ"
      }
    },
    {
      "cell_type": "code",
      "source": [
        "print(c)"
      ],
      "outputs": [],
      "execution_count": null,
      "metadata": {
        "colab": {},
        "colab_type": "code",
        "id": "NIZ3GOtmyDLS"
      }
    },
    {
      "cell_type": "markdown",
      "source": [
        "## 高級関数電卓としてpythonを利用する"
      ],
      "metadata": {
        "colab_type": "text",
        "id": "H2K4kMglyDLV"
      }
    },
    {
      "cell_type": "code",
      "source": [
        "import math # 数学関数を利用する場合はmath をimport する"
      ],
      "outputs": [],
      "execution_count": null,
      "metadata": {
        "colab": {},
        "colab_type": "code",
        "id": "-3V_zE-myDLV"
      }
    },
    {
      "cell_type": "code",
      "source": [
        "print(math.sqrt(c))"
      ],
      "outputs": [],
      "execution_count": null,
      "metadata": {
        "colab": {},
        "colab_type": "code",
        "id": "cKs79LX-yDLX"
      }
    },
    {
      "cell_type": "markdown",
      "source": [
        "## ループの作り方\n",
        "\nPython では「ブロック」はインデントで作ります。"
      ],
      "metadata": {
        "colab_type": "text",
        "id": "x5KGO-QIyDLY"
      }
    },
    {
      "cell_type": "code",
      "source": [
        "sum = 0\n",
        "for i in range(10):\n",
        "    sum = sum + i\n",
        "    print(i)"
      ],
      "outputs": [],
      "execution_count": null,
      "metadata": {
        "colab": {},
        "colab_type": "code",
        "id": "L2hPnaBZyDLY"
      }
    },
    {
      "cell_type": "code",
      "source": [
        "print(sum)"
      ],
      "outputs": [],
      "execution_count": null,
      "metadata": {
        "colab": {},
        "colab_type": "code",
        "id": "Q_iMKgdOyDLa"
      }
    },
    {
      "cell_type": "markdown",
      "source": [
        "## 条件判定"
      ],
      "metadata": {
        "colab_type": "text",
        "id": "jz10t7lAyDLb"
      }
    },
    {
      "cell_type": "code",
      "source": [
        "for i in range(10):\n",
        "    if i % 2 == 0:\n",
        "        print(i)"
      ],
      "outputs": [],
      "execution_count": null,
      "metadata": {
        "colab": {},
        "colab_type": "code",
        "id": "buhH9JytyDLc"
      }
    },
    {
      "cell_type": "markdown",
      "source": [
        "## 関数の定義"
      ],
      "metadata": {
        "colab_type": "text",
        "id": "hA1433fbyDLd"
      }
    },
    {
      "cell_type": "code",
      "source": [
        "def square_sum(a, b):\n",
        "    return a**2 + b**2"
      ],
      "outputs": [],
      "execution_count": null,
      "metadata": {
        "colab": {},
        "colab_type": "code",
        "id": "wqIyr5XZyDLd"
      }
    },
    {
      "cell_type": "code",
      "source": [
        "square_sum(1,2)"
      ],
      "outputs": [],
      "execution_count": null,
      "metadata": {
        "colab": {},
        "colab_type": "code",
        "id": "KL2-IJPFyDLe"
      }
    },
    {
      "cell_type": "markdown",
      "source": [
        "## Pythonの文法についての疑問などは下記参照\n",
        "\n",
        "Python チュートリアル\n",
        "https://docs.python.org/ja/3/tutorial/index.html"
      ],
      "metadata": {
        "colab_type": "text",
        "id": "AkQmEl2KyDLg"
      }
    },
    {
      "cell_type": "markdown",
      "source": [
        "## リストの取り扱いとグラフの表示"
      ],
      "metadata": {
        "colab_type": "text",
        "id": "7jqy8UrkyDLg"
      }
    },
    {
      "cell_type": "code",
      "source": [
        "a = []"
      ],
      "outputs": [],
      "execution_count": null,
      "metadata": {
        "colab": {},
        "colab_type": "code",
        "id": "9Vxb2QivyDLg"
      }
    },
    {
      "cell_type": "code",
      "source": [
        "for i in range(10):\n",
        "    a.append(i) # リストaの末尾に引数の要素を追加する"
      ],
      "outputs": [],
      "execution_count": null,
      "metadata": {
        "colab": {},
        "colab_type": "code",
        "id": "SfMrrXoMyDLh"
      }
    },
    {
      "cell_type": "code",
      "source": [
        "print(a)"
      ],
      "outputs": [],
      "execution_count": null,
      "metadata": {
        "colab": {},
        "colab_type": "code",
        "id": "21CaR2ELyDLi"
      }
    },
    {
      "cell_type": "code",
      "source": [
        "b = []\n",
        "for i in range(10):\n",
        "    b.append(i**2)\n",
        "print(b)"
      ],
      "outputs": [],
      "execution_count": null,
      "metadata": {
        "colab": {},
        "colab_type": "code",
        "id": "Tmu28rYSyDLk"
      }
    },
    {
      "cell_type": "markdown",
      "source": [
        "## グラフの描画はmatplotlibを利用する\n",
        "\npython + matplotlibの組み合わせで簡単に計算結果をグラフとして描画することができる。"
      ],
      "metadata": {
        "colab_type": "text",
        "id": "nvzDUQTAyDLl"
      }
    },
    {
      "cell_type": "code",
      "source": [
        "import matplotlib.pyplot as plt"
      ],
      "outputs": [],
      "execution_count": null,
      "metadata": {
        "colab": {},
        "colab_type": "code",
        "id": "2tATyDXByDLl"
      }
    },
    {
      "cell_type": "code",
      "source": [
        "plt.plot(a, b, color=\"red\", marker=\"o\")"
      ],
      "outputs": [],
      "execution_count": null,
      "metadata": {
        "colab": {},
        "colab_type": "code",
        "id": "Qmfbsa7iyDLm"
      }
    },
    {
      "cell_type": "markdown",
      "source": [
        "# 勾配法(２次元目的関数)を動かしてみる\n",
        "\n目的関数 $\\frac 1 2 x^2 +5  y^2$の最小化を行う。"
      ],
      "metadata": {
        "colab_type": "text",
        "id": "ctC0WjrsyDLn"
      }
    },
    {
      "cell_type": "markdown",
      "source": [
        "## x, yの偏微分値を返す関数"
      ],
      "metadata": {
        "colab_type": "text",
        "id": "hOOpB75ayDLn"
      }
    },
    {
      "cell_type": "code",
      "source": [
        "def grad_x(x):\n",
        "    return x\n",
        "\n",
        "def grad_y(y):\n",
        "    return 10.0 * y"
      ],
      "outputs": [],
      "execution_count": null,
      "metadata": {
        "colab": {},
        "colab_type": "code",
        "id": "Ufdrg-5GyDLo"
      }
    },
    {
      "cell_type": "markdown",
      "source": [
        "## 勾配法の反復計算"
      ],
      "metadata": {
        "colab_type": "text",
        "id": "63mYSc9CyDLp"
      }
    },
    {
      "cell_type": "code",
      "source": [
        "x = 4.0\n",
        "y = 1.0\n",
        "alpha = 0.18\n",
        "\n",
        "for i in range(20):\n",
        "    x = x - alpha * grad_x(x)\n",
        "    y = y - alpha * grad_y(y)\n",
        "    print(i, x, y)"
      ],
      "outputs": [],
      "execution_count": null,
      "metadata": {
        "colab": {},
        "colab_type": "code",
        "id": "ll_-k2RlyDLp"
      }
    },
    {
      "cell_type": "markdown",
      "source": [
        "## 探索点の軌跡を表示する"
      ],
      "metadata": {
        "colab_type": "text",
        "id": "tKIhcjKMyDLq"
      }
    },
    {
      "cell_type": "code",
      "source": [
        "x = 4.0\n",
        "y = 1.0\n",
        "alpha = 0.18\n",
        "\n",
        "x_list = []\n",
        "y_list = []\n",
        "ind_list = []\n",
        "err_list = []\n",
        "for i in range(20):\n",
        "    x = x - alpha * grad_x(x)\n",
        "    y = y - alpha * grad_y(y)\n",
        "    x_list.append(x)\n",
        "    y_list.append(y)\n",
        "    ind_list.append(i)\n",
        "    err_list.append(x*x+y*y)"
      ],
      "outputs": [],
      "execution_count": null,
      "metadata": {
        "colab": {},
        "colab_type": "code",
        "id": "vM9gqSshyDLq"
      }
    },
    {
      "cell_type": "code",
      "source": [
        "plt.plot(x_list, y_list, color=\"red\", marker=\"o\")"
      ],
      "outputs": [],
      "execution_count": null,
      "metadata": {
        "colab": {},
        "colab_type": "code",
        "id": "dl8u33lxyDLr"
      }
    },
    {
      "cell_type": "markdown",
      "source": [
        "## 二乗誤差値を表示する"
      ],
      "metadata": {
        "colab_type": "text",
        "id": "6rgwnQbWyDLs"
      }
    },
    {
      "cell_type": "code",
      "source": [
        "plt.plot(ind_list, err_list, color=\"red\", marker=\"o\")"
      ],
      "outputs": [],
      "execution_count": null,
      "metadata": {
        "colab": {},
        "colab_type": "code",
        "id": "Ic367zr1yDLt"
      }
    },
    {
      "cell_type": "markdown",
      "source": [
        "-------------------------------\n",
        "## 演習問題1-0\n",
        "\n",
        "上記のコードを実行しつつ、理解せよ。この問題についてはレポートによる報告は必要ない。\n",
        "\n",
        "## 演習問題1-1\n",
        "\n",
        "1から100までの数の二乗和を計算するpythonのコードを作成し、計算結果を求めよ。\n",
        "\n",
        "## 演習問題1-2\n",
        "\n",
        "上の勾配法のプログラムを少し修正し、下記を報告せよ。\n",
        "\n",
        "* 学習係数が0.2の場合またはそれ以上に大きい場合を試してみよ。その結果を報告せよ。\n",
        "* 学習係数が小さい場合、例えば、0.05, 0.005の場合を試してみよ。その結果を報告せよ。\n",
        "* 他の初期点からスタートしてみよ。例えば、x軸上の点など。いくつか試してその結果を報告せよ。\n",
        "--------------------------------"
      ],
      "metadata": {
        "colab_type": "text",
        "id": "4snmVUUJyDLu"
      }
    },
    {
      "cell_type": "code",
      "source": [],
      "outputs": [],
      "execution_count": null,
      "metadata": {
        "colab": {},
        "colab_type": "code",
        "id": "KWfDetPgyDLu"
      }
    }
  ],
  "metadata": {
    "colab": {
      "name": "Colab_intro.ipynb",
      "provenance": []
    },
    "kernelspec": {
      "name": "python3",
      "language": "python",
      "display_name": "Python 3"
    },
    "language_info": {
      "name": "python",
      "version": "3.7.7",
      "mimetype": "text/x-python",
      "codemirror_mode": {
        "name": "ipython",
        "version": 3
      },
      "pygments_lexer": "ipython3",
      "nbconvert_exporter": "python",
      "file_extension": ".py"
    },
    "kernel_info": {
      "name": "python3"
    },
    "nteract": {
      "version": "0.12.3"
    }
  },
  "nbformat": 4,
  "nbformat_minor": 4
}